{
 "cells": [
  {
   "cell_type": "code",
   "execution_count": 1,
   "metadata": {},
   "outputs": [],
   "source": [
    "import pandas as pd\n",
    "import numpy as np\n",
    "import matplotlib.pyplot as plt\n",
    "import plotly.express as px\n",
    "from sklearn import *\n",
    "import lightgbm as lgbm \n",
    "import catboost as ctb\n",
    "import re\n",
    "from tqdm import tqdm\n",
    "import warnings\n",
    "from collections import *\n",
    "warnings.filterwarnings('ignore')\n",
    "tqdm.pandas()\n",
    "plt.style.use('ggplot')"
   ]
  },
  {
   "cell_type": "code",
   "execution_count": 4,
   "metadata": {},
   "outputs": [],
   "source": [
    "df = pd.read_csv(r'clean_df.csv')\n",
    "df = df.dropna()"
   ]
  },
  {
   "cell_type": "code",
   "execution_count": 5,
   "metadata": {},
   "outputs": [
    {
     "output_type": "execute_result",
     "data": {
      "text/plain": "                                                    ttext  ttype  \\\n0       @first_timee хоть я и школота, но поверь, у на...      1   \n1       Да, все-таки он немного похож на него. Но мой ...      1   \n2       RT @KatiaCheh: Ну ты идиотка) я испугалась за ...      1   \n3       RT @digger2912: \"Кто то в углу сидит и погибае...      1   \n4       @irina_dyshkant Вот что значит страшилка :D\\nН...      1   \n...                                                   ...    ...   \n226829  Но не каждый хочет что то исправлять:( http://...     -1   \n226830  скучаю так :-( только @taaannyaaa вправляет мо...     -1   \n226831          Вот и в школу, в говно это идти уже надо(     -1   \n226832  RT @_Them__: @LisaBeroud Тауриэль, не грусти :...     -1   \n226833  Такси везет меня на работу. Раздумываю приплат...     -1   \n\n                                             preprocessed  \\\n0       ['хот', 'я', 'и', 'школот', 'но', 'повер', 'у'...   \n1       ['да', 'все', 'так', 'он', 'немн', 'похож', 'н...   \n2       ['ну', 'ты', 'идиотк', 'я', 'испуга', 'за', 'т...   \n3       ['кто', 'то', 'в', 'угл', 'сид', 'и', 'погиба'...   \n4       ['вот', 'что', 'знач', 'страшилк', 'но', 'блин...   \n...                                                   ...   \n226829  ['но', 'не', 'кажд', 'хочет', 'что', 'то', 'ис...   \n226830  ['скуча', 'так', 'тольк', 'вправля', 'мозг', '...   \n226831  ['вот', 'и', 'в', 'школ', 'в', 'говн', 'эт', '...   \n226832                 ['тауриэл', 'не', 'груст', 'обня']   \n226833  ['такс', 'везет', 'мен', 'на', 'работ', 'разду...   \n\n                                               clean_text  \n0       хот я и школот но повер у нас то же сам общест...  \n1       да все так он немн похож на нег но мо мальчик ...  \n2                            ну ты идиотк я испуга за теб  \n3       кто то в угл сид и погиба от голод а мы ещ пор...  \n4       вот что знач страшилк но блин посмотр все част...  \n...                                                   ...  \n226829                   но не кажд хочет что то исправля  \n226830   скуча так тольк вправля мозг но я все равн скуча  \n226831                  вот и в школ в говн эт идт уж над  \n226832                              тауриэл не груст обня  \n226833  такс везет мен на работ раздумыва приплат чтоб...  \n\n[226830 rows x 4 columns]",
      "text/html": "<div>\n<style scoped>\n    .dataframe tbody tr th:only-of-type {\n        vertical-align: middle;\n    }\n\n    .dataframe tbody tr th {\n        vertical-align: top;\n    }\n\n    .dataframe thead th {\n        text-align: right;\n    }\n</style>\n<table border=\"1\" class=\"dataframe\">\n  <thead>\n    <tr style=\"text-align: right;\">\n      <th></th>\n      <th>ttext</th>\n      <th>ttype</th>\n      <th>preprocessed</th>\n      <th>clean_text</th>\n    </tr>\n  </thead>\n  <tbody>\n    <tr>\n      <th>0</th>\n      <td>@first_timee хоть я и школота, но поверь, у на...</td>\n      <td>1</td>\n      <td>['хот', 'я', 'и', 'школот', 'но', 'повер', 'у'...</td>\n      <td>хот я и школот но повер у нас то же сам общест...</td>\n    </tr>\n    <tr>\n      <th>1</th>\n      <td>Да, все-таки он немного похож на него. Но мой ...</td>\n      <td>1</td>\n      <td>['да', 'все', 'так', 'он', 'немн', 'похож', 'н...</td>\n      <td>да все так он немн похож на нег но мо мальчик ...</td>\n    </tr>\n    <tr>\n      <th>2</th>\n      <td>RT @KatiaCheh: Ну ты идиотка) я испугалась за ...</td>\n      <td>1</td>\n      <td>['ну', 'ты', 'идиотк', 'я', 'испуга', 'за', 'т...</td>\n      <td>ну ты идиотк я испуга за теб</td>\n    </tr>\n    <tr>\n      <th>3</th>\n      <td>RT @digger2912: \"Кто то в углу сидит и погибае...</td>\n      <td>1</td>\n      <td>['кто', 'то', 'в', 'угл', 'сид', 'и', 'погиба'...</td>\n      <td>кто то в угл сид и погиба от голод а мы ещ пор...</td>\n    </tr>\n    <tr>\n      <th>4</th>\n      <td>@irina_dyshkant Вот что значит страшилка :D\\nН...</td>\n      <td>1</td>\n      <td>['вот', 'что', 'знач', 'страшилк', 'но', 'блин...</td>\n      <td>вот что знач страшилк но блин посмотр все част...</td>\n    </tr>\n    <tr>\n      <th>...</th>\n      <td>...</td>\n      <td>...</td>\n      <td>...</td>\n      <td>...</td>\n    </tr>\n    <tr>\n      <th>226829</th>\n      <td>Но не каждый хочет что то исправлять:( http://...</td>\n      <td>-1</td>\n      <td>['но', 'не', 'кажд', 'хочет', 'что', 'то', 'ис...</td>\n      <td>но не кажд хочет что то исправля</td>\n    </tr>\n    <tr>\n      <th>226830</th>\n      <td>скучаю так :-( только @taaannyaaa вправляет мо...</td>\n      <td>-1</td>\n      <td>['скуча', 'так', 'тольк', 'вправля', 'мозг', '...</td>\n      <td>скуча так тольк вправля мозг но я все равн скуча</td>\n    </tr>\n    <tr>\n      <th>226831</th>\n      <td>Вот и в школу, в говно это идти уже надо(</td>\n      <td>-1</td>\n      <td>['вот', 'и', 'в', 'школ', 'в', 'говн', 'эт', '...</td>\n      <td>вот и в школ в говн эт идт уж над</td>\n    </tr>\n    <tr>\n      <th>226832</th>\n      <td>RT @_Them__: @LisaBeroud Тауриэль, не грусти :...</td>\n      <td>-1</td>\n      <td>['тауриэл', 'не', 'груст', 'обня']</td>\n      <td>тауриэл не груст обня</td>\n    </tr>\n    <tr>\n      <th>226833</th>\n      <td>Такси везет меня на работу. Раздумываю приплат...</td>\n      <td>-1</td>\n      <td>['такс', 'везет', 'мен', 'на', 'работ', 'разду...</td>\n      <td>такс везет мен на работ раздумыва приплат чтоб...</td>\n    </tr>\n  </tbody>\n</table>\n<p>226830 rows × 4 columns</p>\n</div>"
     },
     "metadata": {},
     "execution_count": 5
    }
   ],
   "source": [
    "df"
   ]
  },
  {
   "cell_type": "code",
   "execution_count": 23,
   "metadata": {},
   "outputs": [],
   "source": [
    "def nlp_ex(text):\n",
    "    # some feature engineering\n",
    "    upper = [[hatred_upper(text)]]\n",
    "    punctuation = [[hatred_punc(text)]]\n",
    "    title = [[len([i for i in text if i.istitle()==True])]]\n",
    "    pos_sc = [[len(re.findall(r'\\)|D',text))]]\n",
    "    neg_sc = [[len(re.findall(r'\\(|C|c|С|c',text))]]\n",
    "    #text preprocessing\n",
    "    stemmer = nltk.stem.SnowballStemmer('russian')\n",
    "    preproc=[stemmer.stem(i) for i in nltk.regexp_tokenize(text.lower(),r'[А-я]+')]\n",
    "    text = ' '.join(preproc)\n",
    "    idf_text= (idf.transform([text])).toarray()\n",
    "    # concat type of file that we needeed\n",
    "    end_text=np.hstack([idf_text,upper,punctuation,title,pos_sc,neg_sc])\n",
    "    # use model\n",
    "    pred = clf_mnb.predict_proba(end_text)\n",
    "\n",
    "    return print(f\" Negative {pred[0][0]:.2%}, Positive {pred[0][1]:.2%}\")"
   ]
  },
  {
   "cell_type": "code",
   "execution_count": 24,
   "metadata": {},
   "outputs": [
    {
     "output_type": "stream",
     "name": "stdout",
     "text": "Negative 37.05%, Positive 62.95%\n Negative 49.34%, Positive 50.66%\n Negative 30.67%, Positive 69.33%\n Negative 47.14%, Positive 52.86%\n Negative 49.34%, Positive 50.66%\n"
    }
   ],
   "source": [
    "for i in ['эт хорош','позитив',\"понравил вечер\",\" эт прост моя любов\",\"милота\"]:\n",
    "    nlp_ex(i)"
   ]
  },
  {
   "cell_type": "code",
   "execution_count": 26,
   "metadata": {},
   "outputs": [
    {
     "output_type": "stream",
     "name": "stdout",
     "text": "Negative 82.39%, Positive 17.61%\n Negative 92.15%, Positive 7.85%\n Negative 80.94%, Positive 19.06%\n Negative 50.57%, Positive 49.43%\n Negative 48.13%, Positive 51.87%\n"
    }
   ],
   "source": [
    "for i in ['ужас','ну что за день(',\"ненавижу тебя\",\"прост тварь\",\"это просто фиаско!\"]:\n",
    "    nlp_ex(i)"
   ]
  },
  {
   "cell_type": "code",
   "execution_count": null,
   "metadata": {},
   "outputs": [],
   "source": []
  }
 ],
 "metadata": {
  "kernelspec": {
   "display_name": "Python 3.7.4 64-bit",
   "language": "python",
   "name": "python37464bita64dbd6c7d3c43dbacdceb6e15b93256"
  },
  "language_info": {
   "codemirror_mode": {
    "name": "ipython",
    "version": 3
   },
   "file_extension": ".py",
   "mimetype": "text/x-python",
   "name": "python",
   "nbconvert_exporter": "python",
   "pygments_lexer": "ipython3",
   "version": "3.7.4-final"
  }
 },
 "nbformat": 4,
 "nbformat_minor": 4
}