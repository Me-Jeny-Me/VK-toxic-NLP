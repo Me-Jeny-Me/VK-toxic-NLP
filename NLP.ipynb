{
 "cells": [
  {
   "cell_type": "code",
   "execution_count": 1,
   "metadata": {},
   "outputs": [],
   "source": [
    "import numpy as np \n",
    "import pandas as pd \n",
    "import nltk \n",
    "import sklearn \n",
    "from sklearn import*\n",
    "import re \n",
    "from tqdm import tqdm \n",
    "import catboost as ctb\n",
    "import joblib"
   ]
  },
  {
   "cell_type": "code",
   "execution_count": 2,
   "metadata": {},
   "outputs": [],
   "source": [
    "tqdm.pandas()"
   ]
  },
  {
   "cell_type": "code",
   "execution_count": 3,
   "metadata": {},
   "outputs": [],
   "source": [
    "df = pd.read_csv('clean_df.csv')\n",
    "df = df.dropna()"
   ]
  },
  {
   "cell_type": "code",
   "execution_count": 4,
   "metadata": {},
   "outputs": [],
   "source": [
    "def hatred_upper(text):\n",
    "    upper = len([i for i in text if i.isupper()])\n",
    "    lower = len([i for i in text if i.islower()])\n",
    "    return upper/(upper+lower)\n",
    "\n",
    "def hatred_punc(text):\n",
    "    punct = len(re.findall(r'[^\\w\\s]',text))\n",
    "    text = len(re.findall(r'\\w+',text))\n",
    "    return punct/text\n"
   ]
  },
  {
   "cell_type": "code",
   "execution_count": 5,
   "metadata": {},
   "outputs": [],
   "source": [
    "idf = feature_extraction.text.TfidfVectorizer(max_features=2000,ngram_range=(1,2))"
   ]
  },
  {
   "cell_type": "code",
   "execution_count": 6,
   "metadata": {},
   "outputs": [],
   "source": [
    "idf_text=idf.fit_transform(df.clean_text).toarray()"
   ]
  },
  {
   "cell_type": "code",
   "execution_count": 7,
   "metadata": {},
   "outputs": [],
   "source": [
    "df['upper']=df.ttext.apply(hatred_upper)\n",
    "df['punct']=df.ttext.apply(hatred_punc)\n",
    "df['title']=df.ttext.apply(lambda x: len([i for i in x if i.istitle()==True]))\n",
    "df['pos_sc'] = df.ttext.apply(lambda text: len(re.findall(r'\\)|D',text)))\n",
    "df['neg_sc'] = df.ttext.apply(lambda text: len(re.findall(r'\\(|C|c|С|c',text)))\n"
   ]
  },
  {
   "cell_type": "code",
   "execution_count": 8,
   "metadata": {},
   "outputs": [
    {
     "output_type": "execute_result",
     "data": {
      "text/plain": "           ttype     upper     punct     title    pos_sc    neg_sc\nttype   1.000000  0.063915 -0.003387  0.089728  0.533223 -0.347500\nupper   0.063915  1.000000  0.139611  0.913370  0.076962  0.189603\npunct  -0.003387  0.139611  1.000000  0.066682  0.214800  0.550125\ntitle   0.089728  0.913370  0.066682  1.000000  0.086383  0.167231\npos_sc  0.533223  0.076962  0.214800  0.086383  1.000000 -0.180788\nneg_sc -0.347500  0.189603  0.550125  0.167231 -0.180788  1.000000",
      "text/html": "<div>\n<style scoped>\n    .dataframe tbody tr th:only-of-type {\n        vertical-align: middle;\n    }\n\n    .dataframe tbody tr th {\n        vertical-align: top;\n    }\n\n    .dataframe thead th {\n        text-align: right;\n    }\n</style>\n<table border=\"1\" class=\"dataframe\">\n  <thead>\n    <tr style=\"text-align: right;\">\n      <th></th>\n      <th>ttype</th>\n      <th>upper</th>\n      <th>punct</th>\n      <th>title</th>\n      <th>pos_sc</th>\n      <th>neg_sc</th>\n    </tr>\n  </thead>\n  <tbody>\n    <tr>\n      <th>ttype</th>\n      <td>1.000000</td>\n      <td>0.063915</td>\n      <td>-0.003387</td>\n      <td>0.089728</td>\n      <td>0.533223</td>\n      <td>-0.347500</td>\n    </tr>\n    <tr>\n      <th>upper</th>\n      <td>0.063915</td>\n      <td>1.000000</td>\n      <td>0.139611</td>\n      <td>0.913370</td>\n      <td>0.076962</td>\n      <td>0.189603</td>\n    </tr>\n    <tr>\n      <th>punct</th>\n      <td>-0.003387</td>\n      <td>0.139611</td>\n      <td>1.000000</td>\n      <td>0.066682</td>\n      <td>0.214800</td>\n      <td>0.550125</td>\n    </tr>\n    <tr>\n      <th>title</th>\n      <td>0.089728</td>\n      <td>0.913370</td>\n      <td>0.066682</td>\n      <td>1.000000</td>\n      <td>0.086383</td>\n      <td>0.167231</td>\n    </tr>\n    <tr>\n      <th>pos_sc</th>\n      <td>0.533223</td>\n      <td>0.076962</td>\n      <td>0.214800</td>\n      <td>0.086383</td>\n      <td>1.000000</td>\n      <td>-0.180788</td>\n    </tr>\n    <tr>\n      <th>neg_sc</th>\n      <td>-0.347500</td>\n      <td>0.189603</td>\n      <td>0.550125</td>\n      <td>0.167231</td>\n      <td>-0.180788</td>\n      <td>1.000000</td>\n    </tr>\n  </tbody>\n</table>\n</div>"
     },
     "metadata": {},
     "execution_count": 8
    }
   ],
   "source": [
    "df.corr()"
   ]
  },
  {
   "cell_type": "code",
   "execution_count": 9,
   "metadata": {},
   "outputs": [],
   "source": [
    "end_df=np.hstack([idf_text,df.iloc[:,-5:].values])"
   ]
  },
  {
   "cell_type": "code",
   "execution_count": 10,
   "metadata": {},
   "outputs": [],
   "source": [
    "clf_mnb =naive_bayes.MultinomialNB(alpha=10)"
   ]
  },
  {
   "cell_type": "code",
   "execution_count": 11,
   "metadata": {},
   "outputs": [
    {
     "output_type": "execute_result",
     "data": {
      "text/plain": "MultinomialNB(alpha=10)"
     },
     "metadata": {},
     "execution_count": 11
    }
   ],
   "source": [
    "clf_mnb.fit(end_df,df['ttype'])"
   ]
  },
  {
   "cell_type": "code",
   "execution_count": 12,
   "metadata": {
    "tags": []
   },
   "outputs": [
    {
     "output_type": "stream",
     "name": "stderr",
     "text": "[Parallel(n_jobs=1)]: Using backend SequentialBackend with 1 concurrent workers.\n[CV]  ................................................................\n[CV] .................................... , score=0.986, total=   3.7s\n[Parallel(n_jobs=1)]: Done   1 out of   1 | elapsed:    3.9s remaining:    0.0s\n[CV]  ................................................................\n[CV] .................................... , score=0.986, total=   3.2s\n[CV]  ................................................................\n[Parallel(n_jobs=1)]: Done   2 out of   2 | elapsed:    7.4s remaining:    0.0s\n[CV] .................................... , score=0.988, total=   2.9s\n[Parallel(n_jobs=1)]: Done   3 out of   3 | elapsed:   10.6s remaining:    0.0s\n[Parallel(n_jobs=1)]: Done   3 out of   3 | elapsed:   10.6s finished\n"
    },
    {
     "output_type": "execute_result",
     "data": {
      "text/plain": "0.986681796194624"
     },
     "metadata": {},
     "execution_count": 12
    }
   ],
   "source": [
    "np.mean(model_selection.cross_val_score(clf_mnb,end_df,df.ttype,cv=3,scoring='roc_auc',verbose=5))"
   ]
  },
  {
   "cell_type": "code",
   "execution_count": 13,
   "metadata": {},
   "outputs": [],
   "source": [
    "def nlp_ex(text):\n",
    "    # some feature engineering\n",
    "    upper = [[hatred_upper(text)]]\n",
    "    punctuation = [[hatred_punc(text)]]\n",
    "    title = [[len([i for i in text if i.istitle()==True])]]\n",
    "    pos_sc = [[len(re.findall(r'\\)|D',text))]]\n",
    "    neg_sc = [[len(re.findall(r'\\(|C|c|С|c',text))]]\n",
    "    #text preprocessing\n",
    "    stemmer = nltk.stem.SnowballStemmer('russian')\n",
    "    preproc=[stemmer.stem(i) for i in nltk.regexp_tokenize(text.lower(),r'[А-я]+')]\n",
    "    text = ' '.join(preproc)\n",
    "    idf_text= (idf.transform([text])).toarray()\n",
    "    # concat type of file that we needeed\n",
    "    end_text=np.hstack([idf_text,upper,punctuation,title,pos_sc,neg_sc])\n",
    "    # use model\n",
    "    pred = clf_mnb.predict_proba(end_text)\n",
    "\n",
    "    return print(f\" Negative {pred[0][0]:.2%}, Positive {pred[0][1]:.2%}\")"
   ]
  },
  {
   "cell_type": "code",
   "execution_count": 14,
   "metadata": {
    "tags": []
   },
   "outputs": [
    {
     "output_type": "stream",
     "name": "stdout",
     "text": "Negative 37.05%, Positive 62.95%\n Negative 49.34%, Positive 50.66%\n Negative 30.67%, Positive 69.33%\n Negative 47.98%, Positive 52.02%\n Negative 49.34%, Positive 50.66%\n"
    }
   ],
   "source": [
    "for i in ['это хорошо','позитив',\"понравился вечер\",\" это просто моя любовь\",\"милота\"]:\n",
    "    nlp_ex(i)"
   ]
  },
  {
   "cell_type": "code",
   "execution_count": 15,
   "metadata": {
    "tags": []
   },
   "outputs": [
    {
     "output_type": "stream",
     "name": "stdout",
     "text": "Negative 82.39%, Positive 17.61%\n Negative 92.15%, Positive 7.85%\n Negative 80.94%, Positive 19.06%\n Negative 50.57%, Positive 49.43%\n Negative 47.09%, Positive 52.91%\n"
    }
   ],
   "source": [
    "for i in ['ужас','ну что за день(',\"ненавижу тебя\",\"простo тварь\",\"это конечно фиаско...\"]:\n",
    "    nlp_ex(i)"
   ]
  }
 ],
 "metadata": {
  "kernelspec": {
   "display_name": "Python 3.7.4 64-bit",
   "language": "python",
   "name": "python37464bita64dbd6c7d3c43dbacdceb6e15b93256"
  },
  "language_info": {
   "codemirror_mode": {
    "name": "ipython",
    "version": 3
   },
   "file_extension": ".py",
   "mimetype": "text/x-python",
   "name": "python",
   "nbconvert_exporter": "python",
   "pygments_lexer": "ipython3",
   "version": "3.7.4-final"
  }
 },
 "nbformat": 4,
 "nbformat_minor": 4
}