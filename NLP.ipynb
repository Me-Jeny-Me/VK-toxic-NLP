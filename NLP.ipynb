{
 "cells": [
  {
   "cell_type": "code",
   "execution_count": 2,
   "metadata": {},
   "outputs": [],
   "source": [
    "import numpy as np \n",
    "import pandas as pd \n",
    "import nltk \n",
    "import sklearn \n",
    "from sklearn import*\n",
    "import re \n",
    "from tqdm import tqdm \n",
    "import catboost as ctb\n",
    "import joblib"
   ]
  },
  {
   "cell_type": "code",
   "execution_count": 3,
   "metadata": {},
   "outputs": [],
   "source": [
    "tqdm.pandas()"
   ]
  },
  {
   "cell_type": "code",
   "execution_count": 4,
   "metadata": {},
   "outputs": [],
   "source": [
    "#грузим датасеты"
   ]
  },
  {
   "cell_type": "code",
   "execution_count": 14,
   "metadata": {},
   "outputs": [],
   "source": [
    "df = pd.read_csv('clean_df.csv')\n",
    "df = df.dropna()"
   ]
  },
  {
   "cell_type": "code",
   "execution_count": 7,
   "metadata": {},
   "outputs": [],
   "source": [
    "def hatred_upper(text):\n",
    "    upper = len([i for i in text if i.isupper()])\n",
    "    lower = len([i for i in text if i.islower()])\n",
    "    return upper/(upper+lower)\n",
    "\n",
    "def hatred_punc(text):\n",
    "    punct = len(re.findall(r'[^\\w\\s]',text))\n",
    "    text = len(re.findall(r'\\w+',text))\n",
    "    return punct/text\n"
   ]
  },
  {
   "cell_type": "code",
   "execution_count": 15,
   "metadata": {},
   "outputs": [],
   "source": [
    "idf = feature_extraction.text.TfidfVectorizer(max_features=2000,ngram_range=(1,2))"
   ]
  },
  {
   "cell_type": "code",
   "execution_count": 16,
   "metadata": {},
   "outputs": [],
   "source": [
    "idf_text=idf.fit_transform(df.clean_text).toarray()"
   ]
  },
  {
   "cell_type": "code",
   "execution_count": 17,
   "metadata": {},
   "outputs": [],
   "source": [
    "#Создаем фичи для улучшения работы модели\n",
    "df['upper']=df.ttext.apply(hatred_upper)\n",
    "df['punct']=df.ttext.apply(hatred_punc)\n",
    "df['title']=df.ttext.apply(lambda x: len([i for i in x if i.istitle()==True]))\n",
    "df['pos_sc'] = df.ttext.apply(lambda text: len(re.findall(r'\\)|D',text)))\n",
    "df['neg_sc'] = df.ttext.apply(lambda text: len(re.findall(r'\\(|C|c|С|c',text)))\n"
   ]
  },
  {
   "cell_type": "code",
   "execution_count": 18,
   "metadata": {},
   "outputs": [
    {
     "output_type": "execute_result",
     "data": {
      "text/plain": "           ttype     upper     punct     title    pos_sc    neg_sc\nttype   1.000000  0.063915 -0.003387  0.089728  0.533223 -0.347500\nupper   0.063915  1.000000  0.139611  0.913370  0.076962  0.189603\npunct  -0.003387  0.139611  1.000000  0.066682  0.214800  0.550125\ntitle   0.089728  0.913370  0.066682  1.000000  0.086383  0.167231\npos_sc  0.533223  0.076962  0.214800  0.086383  1.000000 -0.180788\nneg_sc -0.347500  0.189603  0.550125  0.167231 -0.180788  1.000000",
      "text/html": "<div>\n<style scoped>\n    .dataframe tbody tr th:only-of-type {\n        vertical-align: middle;\n    }\n\n    .dataframe tbody tr th {\n        vertical-align: top;\n    }\n\n    .dataframe thead th {\n        text-align: right;\n    }\n</style>\n<table border=\"1\" class=\"dataframe\">\n  <thead>\n    <tr style=\"text-align: right;\">\n      <th></th>\n      <th>ttype</th>\n      <th>upper</th>\n      <th>punct</th>\n      <th>title</th>\n      <th>pos_sc</th>\n      <th>neg_sc</th>\n    </tr>\n  </thead>\n  <tbody>\n    <tr>\n      <th>ttype</th>\n      <td>1.000000</td>\n      <td>0.063915</td>\n      <td>-0.003387</td>\n      <td>0.089728</td>\n      <td>0.533223</td>\n      <td>-0.347500</td>\n    </tr>\n    <tr>\n      <th>upper</th>\n      <td>0.063915</td>\n      <td>1.000000</td>\n      <td>0.139611</td>\n      <td>0.913370</td>\n      <td>0.076962</td>\n      <td>0.189603</td>\n    </tr>\n    <tr>\n      <th>punct</th>\n      <td>-0.003387</td>\n      <td>0.139611</td>\n      <td>1.000000</td>\n      <td>0.066682</td>\n      <td>0.214800</td>\n      <td>0.550125</td>\n    </tr>\n    <tr>\n      <th>title</th>\n      <td>0.089728</td>\n      <td>0.913370</td>\n      <td>0.066682</td>\n      <td>1.000000</td>\n      <td>0.086383</td>\n      <td>0.167231</td>\n    </tr>\n    <tr>\n      <th>pos_sc</th>\n      <td>0.533223</td>\n      <td>0.076962</td>\n      <td>0.214800</td>\n      <td>0.086383</td>\n      <td>1.000000</td>\n      <td>-0.180788</td>\n    </tr>\n    <tr>\n      <th>neg_sc</th>\n      <td>-0.347500</td>\n      <td>0.189603</td>\n      <td>0.550125</td>\n      <td>0.167231</td>\n      <td>-0.180788</td>\n      <td>1.000000</td>\n    </tr>\n  </tbody>\n</table>\n</div>"
     },
     "metadata": {},
     "execution_count": 18
    }
   ],
   "source": [
    "#проверяем силу фичей\n",
    "df.corr()"
   ]
  },
  {
   "cell_type": "code",
   "execution_count": 19,
   "metadata": {},
   "outputs": [
    {
     "output_type": "execute_result",
     "data": {
      "text/plain": "                                                    ttext  ttype  \\\n0       @first_timee хоть я и школота, но поверь, у на...      1   \n1       Да, все-таки он немного похож на него. Но мой ...      1   \n2       RT @KatiaCheh: Ну ты идиотка) я испугалась за ...      1   \n3       RT @digger2912: \"Кто то в углу сидит и погибае...      1   \n4       @irina_dyshkant Вот что значит страшилка :D\\nН...      1   \n...                                                   ...    ...   \n226829  Но не каждый хочет что то исправлять:( http://...     -1   \n226830  скучаю так :-( только @taaannyaaa вправляет мо...     -1   \n226831          Вот и в школу, в говно это идти уже надо(     -1   \n226832  RT @_Them__: @LisaBeroud Тауриэль, не грусти :...     -1   \n226833  Такси везет меня на работу. Раздумываю приплат...     -1   \n\n                                             preprocessed  \\\n0       ['хот', 'я', 'и', 'школот', 'но', 'повер', 'у'...   \n1       ['да', 'все', 'так', 'он', 'немн', 'похож', 'н...   \n2       ['ну', 'ты', 'идиотк', 'я', 'испуга', 'за', 'т...   \n3       ['кто', 'то', 'в', 'угл', 'сид', 'и', 'погиба'...   \n4       ['вот', 'что', 'знач', 'страшилк', 'но', 'блин...   \n...                                                   ...   \n226829  ['но', 'не', 'кажд', 'хочет', 'что', 'то', 'ис...   \n226830  ['скуча', 'так', 'тольк', 'вправля', 'мозг', '...   \n226831  ['вот', 'и', 'в', 'школ', 'в', 'говн', 'эт', '...   \n226832                 ['тауриэл', 'не', 'груст', 'обня']   \n226833  ['такс', 'везет', 'мен', 'на', 'работ', 'разду...   \n\n                                               clean_text     upper     punct  \\\n0       хот я и школот но повер у нас то же сам общест...  0.012987  0.294118   \n1       да все так он немн похож на нег но мо мальчик ...  0.054545  0.266667   \n2                            ну ты идиотк я испуга за теб  0.128205  0.666667   \n3       кто то в угл сид и погиба от голод а мы ещ пор...  0.084211  0.448276   \n4       вот что знач страшилк но блин посмотр все част...  0.039604  0.333333   \n...                                                   ...       ...       ...   \n226829                   но не кажд хочет что то исправля  0.173913  0.636364   \n226830   скуча так тольк вправля мозг но я все равн скуча  0.000000  0.454545   \n226831                  вот и в школ в говн эт идт уж над  0.033333  0.200000   \n226832                              тауриэл не груст обня  0.162162  1.142857   \n226833  такс везет мен на работ раздумыва приплат чтоб...  0.037975  0.312500   \n\n        title  pos_sc  neg_sc  \n0           1       2       0  \n1           3       1       0  \n2           5       1       1  \n3           8       2       1  \n4           4       2       0  \n...       ...     ...     ...  \n226829      8       2       2  \n226830      0       0       1  \n226831      1       0       1  \n226832      6       0       1  \n226833      3       0       1  \n\n[226830 rows x 9 columns]",
      "text/html": "<div>\n<style scoped>\n    .dataframe tbody tr th:only-of-type {\n        vertical-align: middle;\n    }\n\n    .dataframe tbody tr th {\n        vertical-align: top;\n    }\n\n    .dataframe thead th {\n        text-align: right;\n    }\n</style>\n<table border=\"1\" class=\"dataframe\">\n  <thead>\n    <tr style=\"text-align: right;\">\n      <th></th>\n      <th>ttext</th>\n      <th>ttype</th>\n      <th>preprocessed</th>\n      <th>clean_text</th>\n      <th>upper</th>\n      <th>punct</th>\n      <th>title</th>\n      <th>pos_sc</th>\n      <th>neg_sc</th>\n    </tr>\n  </thead>\n  <tbody>\n    <tr>\n      <th>0</th>\n      <td>@first_timee хоть я и школота, но поверь, у на...</td>\n      <td>1</td>\n      <td>['хот', 'я', 'и', 'школот', 'но', 'повер', 'у'...</td>\n      <td>хот я и школот но повер у нас то же сам общест...</td>\n      <td>0.012987</td>\n      <td>0.294118</td>\n      <td>1</td>\n      <td>2</td>\n      <td>0</td>\n    </tr>\n    <tr>\n      <th>1</th>\n      <td>Да, все-таки он немного похож на него. Но мой ...</td>\n      <td>1</td>\n      <td>['да', 'все', 'так', 'он', 'немн', 'похож', 'н...</td>\n      <td>да все так он немн похож на нег но мо мальчик ...</td>\n      <td>0.054545</td>\n      <td>0.266667</td>\n      <td>3</td>\n      <td>1</td>\n      <td>0</td>\n    </tr>\n    <tr>\n      <th>2</th>\n      <td>RT @KatiaCheh: Ну ты идиотка) я испугалась за ...</td>\n      <td>1</td>\n      <td>['ну', 'ты', 'идиотк', 'я', 'испуга', 'за', 'т...</td>\n      <td>ну ты идиотк я испуга за теб</td>\n      <td>0.128205</td>\n      <td>0.666667</td>\n      <td>5</td>\n      <td>1</td>\n      <td>1</td>\n    </tr>\n    <tr>\n      <th>3</th>\n      <td>RT @digger2912: \"Кто то в углу сидит и погибае...</td>\n      <td>1</td>\n      <td>['кто', 'то', 'в', 'угл', 'сид', 'и', 'погиба'...</td>\n      <td>кто то в угл сид и погиба от голод а мы ещ пор...</td>\n      <td>0.084211</td>\n      <td>0.448276</td>\n      <td>8</td>\n      <td>2</td>\n      <td>1</td>\n    </tr>\n    <tr>\n      <th>4</th>\n      <td>@irina_dyshkant Вот что значит страшилка :D\\nН...</td>\n      <td>1</td>\n      <td>['вот', 'что', 'знач', 'страшилк', 'но', 'блин...</td>\n      <td>вот что знач страшилк но блин посмотр все част...</td>\n      <td>0.039604</td>\n      <td>0.333333</td>\n      <td>4</td>\n      <td>2</td>\n      <td>0</td>\n    </tr>\n    <tr>\n      <th>...</th>\n      <td>...</td>\n      <td>...</td>\n      <td>...</td>\n      <td>...</td>\n      <td>...</td>\n      <td>...</td>\n      <td>...</td>\n      <td>...</td>\n      <td>...</td>\n    </tr>\n    <tr>\n      <th>226829</th>\n      <td>Но не каждый хочет что то исправлять:( http://...</td>\n      <td>-1</td>\n      <td>['но', 'не', 'кажд', 'хочет', 'что', 'то', 'ис...</td>\n      <td>но не кажд хочет что то исправля</td>\n      <td>0.173913</td>\n      <td>0.636364</td>\n      <td>8</td>\n      <td>2</td>\n      <td>2</td>\n    </tr>\n    <tr>\n      <th>226830</th>\n      <td>скучаю так :-( только @taaannyaaa вправляет мо...</td>\n      <td>-1</td>\n      <td>['скуча', 'так', 'тольк', 'вправля', 'мозг', '...</td>\n      <td>скуча так тольк вправля мозг но я все равн скуча</td>\n      <td>0.000000</td>\n      <td>0.454545</td>\n      <td>0</td>\n      <td>0</td>\n      <td>1</td>\n    </tr>\n    <tr>\n      <th>226831</th>\n      <td>Вот и в школу, в говно это идти уже надо(</td>\n      <td>-1</td>\n      <td>['вот', 'и', 'в', 'школ', 'в', 'говн', 'эт', '...</td>\n      <td>вот и в школ в говн эт идт уж над</td>\n      <td>0.033333</td>\n      <td>0.200000</td>\n      <td>1</td>\n      <td>0</td>\n      <td>1</td>\n    </tr>\n    <tr>\n      <th>226832</th>\n      <td>RT @_Them__: @LisaBeroud Тауриэль, не грусти :...</td>\n      <td>-1</td>\n      <td>['тауриэл', 'не', 'груст', 'обня']</td>\n      <td>тауриэл не груст обня</td>\n      <td>0.162162</td>\n      <td>1.142857</td>\n      <td>6</td>\n      <td>0</td>\n      <td>1</td>\n    </tr>\n    <tr>\n      <th>226833</th>\n      <td>Такси везет меня на работу. Раздумываю приплат...</td>\n      <td>-1</td>\n      <td>['такс', 'везет', 'мен', 'на', 'работ', 'разду...</td>\n      <td>такс везет мен на работ раздумыва приплат чтоб...</td>\n      <td>0.037975</td>\n      <td>0.312500</td>\n      <td>3</td>\n      <td>0</td>\n      <td>1</td>\n    </tr>\n  </tbody>\n</table>\n<p>226830 rows × 9 columns</p>\n</div>"
     },
     "metadata": {},
     "execution_count": 19
    }
   ],
   "source": [
    "df"
   ]
  },
  {
   "cell_type": "code",
   "execution_count": 20,
   "metadata": {},
   "outputs": [],
   "source": [
    "end_df=np.hstack([idf_text,df.iloc[:,-5:].values])"
   ]
  },
  {
   "cell_type": "code",
   "execution_count": 21,
   "metadata": {},
   "outputs": [
    {
     "output_type": "execute_result",
     "data": {
      "text/plain": "(226830, 2005)"
     },
     "metadata": {},
     "execution_count": 21
    }
   ],
   "source": [
    "end_df.shape"
   ]
  },
  {
   "cell_type": "code",
   "execution_count": 22,
   "metadata": {},
   "outputs": [],
   "source": [
    "#Выбираем классификатор\n",
    "clf_mnb =naive_bayes.MultinomialNB(alpha=10)"
   ]
  },
  {
   "cell_type": "code",
   "execution_count": 23,
   "metadata": {},
   "outputs": [
    {
     "output_type": "execute_result",
     "data": {
      "text/plain": "MultinomialNB(alpha=10)"
     },
     "metadata": {},
     "execution_count": 23
    }
   ],
   "source": [
    "#Обучаем модель\n",
    "clf_mnb.fit(end_df,df['ttype'])"
   ]
  },
  {
   "cell_type": "code",
   "execution_count": 24,
   "metadata": {
    "tags": []
   },
   "outputs": [
    {
     "output_type": "stream",
     "name": "stderr",
     "text": "[Parallel(n_jobs=1)]: Using backend SequentialBackend with 1 concurrent workers.\n[CV]  ................................................................\n[CV] .................................... , score=0.986, total=   4.7s\n[Parallel(n_jobs=1)]: Done   1 out of   1 | elapsed:    4.9s remaining:    0.0s\n[CV]  ................................................................\n[CV] .................................... , score=0.987, total=   3.1s\n[CV]  ................................................................\n[Parallel(n_jobs=1)]: Done   2 out of   2 | elapsed:    8.3s remaining:    0.0s\n[CV] .................................... , score=0.986, total=   3.3s\n[Parallel(n_jobs=1)]: Done   3 out of   3 | elapsed:   11.9s remaining:    0.0s\n[CV]  ................................................................\n[CV] .................................... , score=0.985, total=   3.0s\n[CV]  ................................................................\n[Parallel(n_jobs=1)]: Done   4 out of   4 | elapsed:   15.2s remaining:    0.0s\n[CV] .................................... , score=0.989, total=   2.8s\n[Parallel(n_jobs=1)]: Done   5 out of   5 | elapsed:   18.3s finished\n"
    },
    {
     "output_type": "execute_result",
     "data": {
      "text/plain": "0.9868535213546197"
     },
     "metadata": {},
     "execution_count": 24
    }
   ],
   "source": [
    "# Проверяем эффективность по метрике\n",
    "np.mean(model_selection.cross_val_score(clf_mnb,end_df,df.ttype,cv=5,scoring='roc_auc',verbose=5))"
   ]
  },
  {
   "cell_type": "code",
   "execution_count": 25,
   "metadata": {},
   "outputs": [],
   "source": [
    "def nlp_ex(text):\n",
    "    # some feature engineering\n",
    "    upper = [[hatred_upper(text)]]\n",
    "    punctuation = [[hatred_punc(text)]]\n",
    "    title = [[len([i for i in text if i.istitle()==True])]]\n",
    "    pos_sc = [[len(re.findall(r'\\)|D',text))]]\n",
    "    neg_sc = [[len(re.findall(r'\\(|C|c|С|c',text))]]\n",
    "    #text preprocessing\n",
    "    stemmer = nltk.stem.SnowballStemmer('russian')\n",
    "    preproc=[stemmer.stem(i) for i in nltk.regexp_tokenize(text.lower(),r'[А-я]+')]\n",
    "    text = ' '.join(preproc)\n",
    "    idf_text= (idf.transform([text])).toarray()\n",
    "    # concat type of file that we needeed\n",
    "    end_text=np.hstack([idf_text,upper,punctuation,title,pos_sc,neg_sc])\n",
    "    # use model\n",
    "    pred = clf_mnb.predict_proba(end_text)\n",
    "\n",
    "    return print(f\" Negative {pred[0][0]:.2%}, Positive {pred[0][1]:.2%}\")"
   ]
  },
  {
   "cell_type": "code",
   "execution_count": 26,
   "metadata": {
    "tags": []
   },
   "outputs": [
    {
     "output_type": "stream",
     "name": "stdout",
     "text": "Negative 37.05%, Positive 62.95%\n Negative 49.34%, Positive 50.66%\n Negative 30.67%, Positive 69.33%\n Negative 47.14%, Positive 52.86%\n Negative 49.34%, Positive 50.66%\n"
    }
   ],
   "source": [
    "for i in ['эт хорош','позитив',\"понравил вечер\",\" эт прост моя любов\",\"милота\"]:\n",
    "    nlp_ex(i)"
   ]
  },
  {
   "cell_type": "code",
   "execution_count": 29,
   "metadata": {
    "tags": []
   },
   "outputs": [
    {
     "output_type": "stream",
     "name": "stdout",
     "text": "Negative 82.39%, Positive 17.61%\n Negative 92.15%, Positive 7.85%\n Negative 80.94%, Positive 19.06%\n Negative 50.57%, Positive 49.43%\n Negative 48.13%, Positive 51.87%\n"
    }
   ],
   "source": [
    "for i in ['ужас','ну что за день(',\"ненавижу тебя\",\"простo тварь\",\"это просто фиаско!\"]:\n",
    "    nlp_ex(i)"
   ]
  },
  {
   "cell_type": "code",
   "execution_count": null,
   "metadata": {},
   "outputs": [],
   "source": []
  }
 ],
 "metadata": {
  "kernelspec": {
   "display_name": "Python 3.7.4 64-bit",
   "language": "python",
   "name": "python37464bita64dbd6c7d3c43dbacdceb6e15b93256"
  },
  "language_info": {
   "codemirror_mode": {
    "name": "ipython",
    "version": 3
   },
   "file_extension": ".py",
   "mimetype": "text/x-python",
   "name": "python",
   "nbconvert_exporter": "python",
   "pygments_lexer": "ipython3",
   "version": "3.7.4-final"
  }
 },
 "nbformat": 4,
 "nbformat_minor": 4
}